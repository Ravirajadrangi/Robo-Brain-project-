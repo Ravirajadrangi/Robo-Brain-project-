{
 "metadata": {
  "name": "",
  "signature": "sha256:dfc899d54065b9ea293b8d452189b581d11f41d8a7095e4e825263577e2a7692"
 },
 "nbformat": 3,
 "nbformat_minor": 0,
 "worksheets": [
  {
   "cells": [
    {
     "cell_type": "heading",
     "level": 1,
     "metadata": {},
     "source": [
      "I. Setup"
     ]
    },
    {
     "cell_type": "markdown",
     "metadata": {},
     "source": [
      "In order to make ModalDB accessible, execute the following steps:\n",
      "\n",
      "#### Step 1: Run the configuration script, ModalDB/configure.sh: (This puts ModalDB in your PYTHONPATH envvar)\n",
      "```\n",
      "    cd /path/to/ModalDB\n",
      "    source ./configure.sh\n",
      "```\n",
      "\n",
      "#### Step 2: start MongoDB in the appropriate location: (For this demo, make it ModalDB/demos/data/db\n",
      "```\n",
      "    cd /path/to/ModalDB/demos\n",
      "    mongod --dbpath=./data/db\n",
      "```\n",
      "\n",
      "The rest of this notebook will assume that you have performed the above steps"
     ]
    },
    {
     "cell_type": "code",
     "collapsed": false,
     "input": [
      "from scipy.io import loadmat, savemat\n",
      "from scipy.misc import imread, imsave\n",
      "import cPickle\n",
      "from ModalDB import * # if you get an import error here, shut down ipython notebook and run the configuration script."
     ],
     "language": "python",
     "metadata": {},
     "outputs": [],
     "prompt_number": 1
    },
    {
     "cell_type": "heading",
     "level": 1,
     "metadata": {},
     "source": [
      "II. Basic Principles of ModalDB"
     ]
    },
    {
     "cell_type": "markdown",
     "metadata": {},
     "source": [
      "ModalDB is a database optimized for applications that need to efficiently interact with data of multiple 'modes,' or formats, such as images, text and audio. It lazily loads all data that is stored on disk, while providing a interface to users that abstracts away the details of how data is retrieved. It also provides the ability to create a flexible, hierarchical structure to your database.\n",
      "\n",
      "The core concepts that developers should familiarize themselves with are ```DataObjects``` and ```ModalSchemas```. ```DataObjects``` are essentially data containers - they group related database items together and provide an interface to interact with them. Users specify which ```DataObjects``` contain what forms of data and how it should be efficiently accessed using a ```ModalSchema```. These are perhaps best described with the example below:"
     ]
    },
    {
     "cell_type": "heading",
     "level": 4,
     "metadata": {},
     "source": [
      "Schema Example: RecipeWatch"
     ]
    },
    {
     "cell_type": "code",
     "collapsed": false,
     "input": [
      "rw_schema = ModalSchema({\n",
      "                            # Frames consist of an image (stored on disk) and accompanying subtitles (stored in memory)\n",
      "                            Frame:  {\n",
      "                                        'image':{\n",
      "                                                    'mode':'disk',                   # store it on disk, instead of mongodb\n",
      "                                                    'filename':'image.jpg',          # filename to store data under\n",
      "                                                    'load_func':lambda p: imread(p)  # how to load from disk. (p = path to file)\n",
      "                                                },\n",
      "                                        'subtitles':{\n",
      "                                                    'mode':'memory'\n",
      "                                                    }\n",
      "                                    },\n",
      "\n",
      "                            # Videos contain subtitles, which we can store in memory (mongodb) as strings.\n",
      "                            Video:  {\n",
      "                                        'thumbnail':{\n",
      "                                                        'mode':'disk',\n",
      "                                                        'filename':'thumbnail.png',\n",
      "                                                        'load_func':lambda p: imread(p),\n",
      "                                                        'save_func':lambda x, p: imsave(p, x)\n",
      "                                                    },\n",
      "                                        \n",
      "                                        # Videos also contain collections of 'Frame' dataobjects (defined below)\n",
      "                                        'contains':[Frame]\n",
      "                                    }\n",
      "                        })"
     ],
     "language": "python",
     "metadata": {},
     "outputs": [],
     "prompt_number": 3
    },
    {
     "cell_type": "markdown",
     "metadata": {},
     "source": [
      "Note that both Frame and Video are subclasses of the DataObject class provided. (These are defined in the ModalDB source code, as they will be used quite frequently.) This ```ModalSchema``` specifies that ```Frame```s will contain both an image and subtitles. Furthermore, it specifies that ```Video```s contain a thumbnail (an image) and a set of ```Frame```s. "
     ]
    },
    {
     "cell_type": "heading",
     "level": 2,
     "metadata": {},
     "source": [
      "III. Creating and Populating a ModalDB"
     ]
    },
    {
     "cell_type": "heading",
     "level": 4,
     "metadata": {},
     "source": [
      "Creation"
     ]
    },
    {
     "cell_type": "markdown",
     "metadata": {},
     "source": [
      "Now that we have defined a schema for our database, let's construct one, insert some items, and start to use it."
     ]
    },
    {
     "cell_type": "code",
     "collapsed": false,
     "input": [
      "import os\n",
      "data_dir = os.path.join(os.getcwd(), './data/')\n",
      "modaldb_client = ModalClient(root=data_dir, schema=rw_schema) # here, we specify the DB's location (on disk) and schema.\n",
      "modaldb_client.clear_db() # empty the database just in case."
     ],
     "language": "python",
     "metadata": {},
     "outputs": [],
     "prompt_number": 5
    },
    {
     "cell_type": "markdown",
     "metadata": {},
     "source": [
      "We will insert the following images into our database:"
     ]
    },
    {
     "cell_type": "code",
     "collapsed": false,
     "input": [
      "!ls ./raw_data "
     ],
     "language": "python",
     "metadata": {},
     "outputs": [
      {
       "output_type": "stream",
       "stream": "stdout",
       "text": [
        "frame_00.jpg  frame_01.jpg  thumbnail.jpg\r\n"
       ]
      }
     ],
     "prompt_number": 7
    },
    {
     "cell_type": "heading",
     "level": 4,
     "metadata": {},
     "source": [
      "Insertion"
     ]
    },
    {
     "cell_type": "markdown",
     "metadata": {},
     "source": [
      "Let's insert a video into the database. We can do this using the ModalClient's method ```insert```. This takes in a specification of what type of ```DataObject``` you are inserting, what to call it, as well as a dict mapping individual item names to their location on disk (if it is to be stored on disk) or their values (if it is to be stored in memory). Check out the docs:"
     ]
    },
    {
     "cell_type": "code",
     "collapsed": false,
     "input": [
      "modaldb_client.insert? # close the window below when you are done."
     ],
     "language": "python",
     "metadata": {},
     "outputs": [],
     "prompt_number": 14
    },
    {
     "cell_type": "code",
     "collapsed": false,
     "input": [
      "item_dict = {'thumbnail':'./raw_data/thumbnail.jpg'} # our video's 'thumbnail' item is currently located at ./raw_data/thumbnail.jpg\n",
      "my_video = modaldb_client.insert(Video, 'my_video', item_dict, method='cp') # method='cp' specifies that we will *copy*, not move, all disk data."
     ],
     "language": "python",
     "metadata": {},
     "outputs": [
      {
       "ename": "DuplicateKeyError",
       "evalue": "insertDocument :: caused by :: 11000 E11000 duplicate key error index: ModalDB.Video.$_id_  dup key: { : \"my_video\" }",
       "output_type": "pyerr",
       "traceback": [
        "\u001b[0;31m---------------------------------------------------------------------------\u001b[0m\n\u001b[0;31mDuplicateKeyError\u001b[0m                         Traceback (most recent call last)",
        "\u001b[0;32m<ipython-input-16-f4278d928ce2>\u001b[0m in \u001b[0;36m<module>\u001b[0;34m()\u001b[0m\n\u001b[1;32m      1\u001b[0m \u001b[0mitem_dict\u001b[0m \u001b[0;34m=\u001b[0m \u001b[0;34m{\u001b[0m\u001b[0;34m'thumbnail'\u001b[0m\u001b[0;34m:\u001b[0m\u001b[0;34m'./raw_data/thumbnail.jpg'\u001b[0m\u001b[0;34m}\u001b[0m \u001b[0;31m# our video's 'thumbnail' item is currently located at ./raw_data/thumbnail.jpg\u001b[0m\u001b[0;34m\u001b[0m\u001b[0m\n\u001b[0;32m----> 2\u001b[0;31m \u001b[0mmy_video\u001b[0m \u001b[0;34m=\u001b[0m \u001b[0mmodaldb_client\u001b[0m\u001b[0;34m.\u001b[0m\u001b[0minsert\u001b[0m\u001b[0;34m(\u001b[0m\u001b[0mVideo\u001b[0m\u001b[0;34m,\u001b[0m \u001b[0;34m'my_video'\u001b[0m\u001b[0;34m,\u001b[0m \u001b[0mitem_dict\u001b[0m\u001b[0;34m,\u001b[0m \u001b[0mmethod\u001b[0m\u001b[0;34m=\u001b[0m\u001b[0;34m'cp'\u001b[0m\u001b[0;34m)\u001b[0m \u001b[0;31m# method='cp' specifies that we will *copy*, not move, all disk data.\u001b[0m\u001b[0;34m\u001b[0m\u001b[0m\n\u001b[0m",
        "\u001b[0;32m/Users/jayhack/CS/AI/Robobrain/Code/ModalDB/src/ModalDB/ModalClient.pyc\u001b[0m in \u001b[0;36minsert\u001b[0;34m(self, datatype, _id, item_data, parent, method)\u001b[0m\n\u001b[1;32m    395\u001b[0m                 \u001b[0;31m#=====[ Step 5: create + insert mongo doc       ]=====\u001b[0m\u001b[0;34m\u001b[0m\u001b[0;34m\u001b[0m\u001b[0m\n\u001b[1;32m    396\u001b[0m                 \u001b[0mmongo_doc\u001b[0m \u001b[0;34m=\u001b[0m \u001b[0mself\u001b[0m\u001b[0;34m.\u001b[0m\u001b[0mcreate_mongo_doc\u001b[0m\u001b[0;34m(\u001b[0m\u001b[0mdatatype\u001b[0m\u001b[0;34m,\u001b[0m \u001b[0m_id\u001b[0m\u001b[0;34m,\u001b[0m \u001b[0mroot\u001b[0m\u001b[0;34m,\u001b[0m \u001b[0mitem_data\u001b[0m\u001b[0;34m)\u001b[0m\u001b[0;34m\u001b[0m\u001b[0m\n\u001b[0;32m--> 397\u001b[0;31m                 \u001b[0mself\u001b[0m\u001b[0;34m.\u001b[0m\u001b[0mget_collection\u001b[0m\u001b[0;34m(\u001b[0m\u001b[0mdatatype\u001b[0m\u001b[0;34m)\u001b[0m\u001b[0;34m.\u001b[0m\u001b[0minsert\u001b[0m\u001b[0;34m(\u001b[0m\u001b[0mmongo_doc\u001b[0m\u001b[0;34m)\u001b[0m\u001b[0;34m\u001b[0m\u001b[0m\n\u001b[0m\u001b[1;32m    398\u001b[0m \u001b[0;34m\u001b[0m\u001b[0m\n\u001b[1;32m    399\u001b[0m                 \u001b[0;31m#=====[ Step 6: add to parent, if necessary     ]=====\u001b[0m\u001b[0;34m\u001b[0m\u001b[0;34m\u001b[0m\u001b[0m\n",
        "\u001b[0;32m/Users/jayhack/anaconda/lib/python2.7/site-packages/pymongo/collection.pyc\u001b[0m in \u001b[0;36minsert\u001b[0;34m(self, doc_or_docs, manipulate, safe, check_keys, continue_on_error, **kwargs)\u001b[0m\n\u001b[1;32m    408\u001b[0m                     \u001b[0mself\u001b[0m\u001b[0;34m.\u001b[0m\u001b[0mdatabase\u001b[0m\u001b[0;34m.\u001b[0m\u001b[0mname\u001b[0m \u001b[0;34m+\u001b[0m \u001b[0;34m\".$cmd\"\u001b[0m\u001b[0;34m,\u001b[0m \u001b[0m_INSERT\u001b[0m\u001b[0;34m,\u001b[0m \u001b[0mcommand\u001b[0m\u001b[0;34m,\u001b[0m\u001b[0;34m\u001b[0m\u001b[0m\n\u001b[1;32m    409\u001b[0m                     gen(), check_keys, self.uuid_subtype, client)\n\u001b[0;32m--> 410\u001b[0;31m             \u001b[0m_check_write_command_response\u001b[0m\u001b[0;34m(\u001b[0m\u001b[0mresults\u001b[0m\u001b[0;34m)\u001b[0m\u001b[0;34m\u001b[0m\u001b[0m\n\u001b[0m\u001b[1;32m    411\u001b[0m         \u001b[0;32melse\u001b[0m\u001b[0;34m:\u001b[0m\u001b[0;34m\u001b[0m\u001b[0m\n\u001b[1;32m    412\u001b[0m             \u001b[0;31m# Legacy batched OP_INSERT\u001b[0m\u001b[0;34m\u001b[0m\u001b[0;34m\u001b[0m\u001b[0m\n",
        "\u001b[0;32m/Users/jayhack/anaconda/lib/python2.7/site-packages/pymongo/helpers.pyc\u001b[0m in \u001b[0;36m_check_write_command_response\u001b[0;34m(results)\u001b[0m\n\u001b[1;32m    196\u001b[0m             \u001b[0merror\u001b[0m\u001b[0;34m[\u001b[0m\u001b[0;34m\"index\"\u001b[0m\u001b[0;34m]\u001b[0m \u001b[0;34m+=\u001b[0m \u001b[0moffset\u001b[0m\u001b[0;34m\u001b[0m\u001b[0m\n\u001b[1;32m    197\u001b[0m             \u001b[0;32mif\u001b[0m \u001b[0merror\u001b[0m\u001b[0;34m.\u001b[0m\u001b[0mget\u001b[0m\u001b[0;34m(\u001b[0m\u001b[0;34m\"code\"\u001b[0m\u001b[0;34m)\u001b[0m \u001b[0;34m==\u001b[0m \u001b[0;36m11000\u001b[0m\u001b[0;34m:\u001b[0m\u001b[0;34m\u001b[0m\u001b[0m\n\u001b[0;32m--> 198\u001b[0;31m                 \u001b[0;32mraise\u001b[0m \u001b[0mDuplicateKeyError\u001b[0m\u001b[0;34m(\u001b[0m\u001b[0merror\u001b[0m\u001b[0;34m.\u001b[0m\u001b[0mget\u001b[0m\u001b[0;34m(\u001b[0m\u001b[0;34m\"errmsg\"\u001b[0m\u001b[0;34m)\u001b[0m\u001b[0;34m,\u001b[0m \u001b[0;36m11000\u001b[0m\u001b[0;34m,\u001b[0m \u001b[0merror\u001b[0m\u001b[0;34m)\u001b[0m\u001b[0;34m\u001b[0m\u001b[0m\n\u001b[0m\u001b[1;32m    199\u001b[0m         \u001b[0;32melse\u001b[0m\u001b[0;34m:\u001b[0m\u001b[0;34m\u001b[0m\u001b[0m\n\u001b[1;32m    200\u001b[0m             \u001b[0merror\u001b[0m \u001b[0;34m=\u001b[0m \u001b[0mresult\u001b[0m\u001b[0;34m[\u001b[0m\u001b[0;34m\"writeConcernError\"\u001b[0m\u001b[0;34m]\u001b[0m\u001b[0;34m\u001b[0m\u001b[0m\n",
        "\u001b[0;31mDuplicateKeyError\u001b[0m: insertDocument :: caused by :: 11000 E11000 duplicate key error index: ModalDB.Video.$_id_  dup key: { : \"my_video\" }"
       ]
      }
     ],
     "prompt_number": 16
    },
    {
     "cell_type": "code",
     "collapsed": false,
     "input": [],
     "language": "python",
     "metadata": {},
     "outputs": []
    }
   ],
   "metadata": {}
  }
 ]
}