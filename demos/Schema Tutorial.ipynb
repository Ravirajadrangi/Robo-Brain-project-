{
 "metadata": {
  "name": "",
  "signature": "sha256:ddc20bde3669fd1742399817492f26b04a36db05405e72930667963b9e240c64"
 },
 "nbformat": 3,
 "nbformat_minor": 0,
 "worksheets": [
  {
   "cells": [
    {
     "cell_type": "code",
     "collapsed": false,
     "input": [
      "from scipy.io import loadmat, savemat\n",
      "from scipy.misc import imread, imsave\n",
      "import cPickle\n",
      "from ModalDB import *"
     ],
     "language": "python",
     "metadata": {},
     "outputs": [],
     "prompt_number": 1
    },
    {
     "cell_type": "heading",
     "level": 2,
     "metadata": {},
     "source": [
      "Schema Example: RecipeWatch"
     ]
    },
    {
     "cell_type": "code",
     "collapsed": false,
     "input": [
      "rw_schema = ModalSchema({\n",
      "                            #describes what contains what; you can include segments here\n",
      "                            'Nesting':[Video, Frame],\n",
      "\n",
      "                            Video:  {\n",
      "                                        'subtitles':{\n",
      "                                                        'mode':'memory'\n",
      "                                                    }\n",
      "                                    },\n",
      "\n",
      "                            Frame:  {\n",
      "                                        'image':{\n",
      "                                                    'mode':'disk',\n",
      "                                                    'filename':'image.jpg',\n",
      "                                                    'load_func':lambda p: imread(p)\n",
      "                                                },\n",
      "                                        'masks':{\n",
      "                                                    'mode':'disk',\n",
      "                                                    'filename':'masks_and_scores.mat',\n",
      "                                                    'load_func':lambda p: loadmat(p, variable_names=['masks'])['masks'],\n",
      "                                                },\n",
      "                                        'scores':{\n",
      "                                                    'mode':'disk',\n",
      "                                                    'filename':'masks_and_scores.mat',\n",
      "                                                    'load_func':lambda p: loadmat(p, variable_names=['scores'])['scores'],\n",
      "                                                },\n",
      "                                        'cnn_features':{\n",
      "                                                    'mode':'disk',\n",
      "                                                    'filename':'features.npy',\n",
      "                                                    'load_func':lambda p: cPickle.load(open(p))\n",
      "                                                }\n",
      "                                    }\n",
      "\n",
      "                        })"
     ],
     "language": "python",
     "metadata": {},
     "outputs": [],
     "prompt_number": 2
    },
    {
     "cell_type": "heading",
     "level": 2,
     "metadata": {},
     "source": [
      "Using ModalDB with Custom Schema"
     ]
    },
    {
     "cell_type": "code",
     "collapsed": false,
     "input": [
      "data_dir = '/Users/jayhack/Academics/CS/RoboBrain/Code/RecipeWatchRelated/data'\n",
      "client = ModalClient(root=data_dir, schema=rw_schema)\n",
      "client.clear_db()\n",
      "client.update()"
     ],
     "language": "python",
     "metadata": {},
     "outputs": [
      {
       "ename": "InvalidStringData",
       "evalue": "strings in documents must be valid UTF-8: '\\x80\\x02cdill.dill\\n_create_function\\nq\\x00(cdill.dill\\n_unmarshal\\nq\\x01U\\x84c\\x01\\x00\\x00\\x00\\x01\\x00\\x00\\x00\\x02\\x00\\x00\\x00C\\x00\\x00\\x00s\\n\\x00\\x00\\x00t\\x00\\x00|\\x00\\x00\\x83\\x01\\x00S(\\x01\\x00\\x00\\x00N(\\x01\\x00\\x00\\x00t\\x06\\x00\\x00\\x00imread(\\x01\\x00\\x00\\x00t\\x01\\x00\\x00\\x00p(\\x00\\x00\\x00\\x00(\\x00\\x00\\x00\\x00s\\x1e\\x00\\x00\\x00<ipython-input-2-771220f9dbd0>t\\x08\\x00\\x00\\x00<lambda>\\x0f\\x00\\x00\\x00s\\x00\\x00\\x00\\x00q\\x02\\x85q\\x03Rq\\x04c__builtin__\\n__main__\\nU\\x08<lambda>q\\x05NN}q\\x06tq\\x07Rq\\x08.'",
       "output_type": "pyerr",
       "traceback": [
        "\u001b[0;31m---------------------------------------------------------------------------\u001b[0m\n\u001b[0;31mInvalidStringData\u001b[0m                         Traceback (most recent call last)",
        "\u001b[0;32m<ipython-input-3-ac884e81606e>\u001b[0m in \u001b[0;36m<module>\u001b[0;34m()\u001b[0m\n\u001b[1;32m      2\u001b[0m \u001b[0mclient\u001b[0m \u001b[0;34m=\u001b[0m \u001b[0mModalClient\u001b[0m\u001b[0;34m(\u001b[0m\u001b[0mroot\u001b[0m\u001b[0;34m=\u001b[0m\u001b[0mdata_dir\u001b[0m\u001b[0;34m,\u001b[0m \u001b[0mschema\u001b[0m\u001b[0;34m=\u001b[0m\u001b[0mrw_schema\u001b[0m\u001b[0;34m)\u001b[0m\u001b[0;34m\u001b[0m\u001b[0m\n\u001b[1;32m      3\u001b[0m \u001b[0mclient\u001b[0m\u001b[0;34m.\u001b[0m\u001b[0mclear_db\u001b[0m\u001b[0;34m(\u001b[0m\u001b[0;34m)\u001b[0m\u001b[0;34m\u001b[0m\u001b[0m\n\u001b[0;32m----> 4\u001b[0;31m \u001b[0mclient\u001b[0m\u001b[0;34m.\u001b[0m\u001b[0mupdate\u001b[0m\u001b[0;34m(\u001b[0m\u001b[0;34m)\u001b[0m\u001b[0;34m\u001b[0m\u001b[0m\n\u001b[0m",
        "\u001b[0;32m/Users/jayhack/Academics/CS/RoboBrain/Code/ModalDB/src/ModalDB/ModalClient.py\u001b[0m in \u001b[0;36mupdate\u001b[0;34m(self)\u001b[0m\n\u001b[1;32m    313\u001b[0m                 \u001b[0md\u001b[0m \u001b[0;34m=\u001b[0m \u001b[0mos\u001b[0m\u001b[0;34m.\u001b[0m\u001b[0mpath\u001b[0m\u001b[0;34m.\u001b[0m\u001b[0mjoin\u001b[0m\u001b[0;34m(\u001b[0m\u001b[0mself\u001b[0m\u001b[0;34m.\u001b[0m\u001b[0mroot\u001b[0m\u001b[0;34m,\u001b[0m \u001b[0mroot_type\u001b[0m\u001b[0;34m.\u001b[0m\u001b[0m__name__\u001b[0m\u001b[0;34m)\u001b[0m\u001b[0;34m\u001b[0m\u001b[0m\n\u001b[1;32m    314\u001b[0m                 \u001b[0;32mfor\u001b[0m \u001b[0m_id\u001b[0m \u001b[0;32min\u001b[0m \u001b[0;34m[\u001b[0m\u001b[0mx\u001b[0m \u001b[0;32mfor\u001b[0m \u001b[0mx\u001b[0m \u001b[0;32min\u001b[0m \u001b[0mos\u001b[0m\u001b[0;34m.\u001b[0m\u001b[0mlistdir\u001b[0m\u001b[0;34m(\u001b[0m\u001b[0md\u001b[0m\u001b[0;34m)\u001b[0m \u001b[0;32mif\u001b[0m \u001b[0;32mnot\u001b[0m \u001b[0mx\u001b[0m\u001b[0;34m.\u001b[0m\u001b[0mstartswith\u001b[0m\u001b[0;34m(\u001b[0m\u001b[0;34m'.'\u001b[0m\u001b[0;34m)\u001b[0m\u001b[0;34m]\u001b[0m\u001b[0;34m:\u001b[0m\u001b[0;34m\u001b[0m\u001b[0m\n\u001b[0;32m--> 315\u001b[0;31m                         \u001b[0mself\u001b[0m\u001b[0;34m.\u001b[0m\u001b[0minsert_object\u001b[0m\u001b[0;34m(\u001b[0m\u001b[0mroot_type\u001b[0m\u001b[0;34m,\u001b[0m \u001b[0mNone\u001b[0m\u001b[0;34m,\u001b[0m \u001b[0m_id\u001b[0m\u001b[0;34m)\u001b[0m\u001b[0;34m\u001b[0m\u001b[0m\n\u001b[0m\u001b[1;32m    316\u001b[0m \u001b[0;34m\u001b[0m\u001b[0m\n\u001b[1;32m    317\u001b[0m \u001b[0;34m\u001b[0m\u001b[0m\n",
        "\u001b[0;32m/Users/jayhack/Academics/CS/RoboBrain/Code/ModalDB/src/ModalDB/ModalClient.py\u001b[0m in \u001b[0;36minsert_object\u001b[0;34m(self, data_type, parent, _id)\u001b[0m\n\u001b[1;32m    302\u001b[0m                 \u001b[0;32melse\u001b[0m\u001b[0;34m:\u001b[0m\u001b[0;34m\u001b[0m\u001b[0m\n\u001b[1;32m    303\u001b[0m                         \u001b[0mobj\u001b[0m\u001b[0;34m.\u001b[0m\u001b[0mupdate\u001b[0m\u001b[0;34m(\u001b[0m\u001b[0;34m)\u001b[0m\u001b[0;34m\u001b[0m\u001b[0m\n\u001b[0;32m--> 304\u001b[0;31m                         \u001b[0mself\u001b[0m\u001b[0;34m.\u001b[0m\u001b[0mdb\u001b[0m\u001b[0;34m[\u001b[0m\u001b[0mdata_type\u001b[0m\u001b[0;34m.\u001b[0m\u001b[0m__name__\u001b[0m\u001b[0;34m]\u001b[0m\u001b[0;34m.\u001b[0m\u001b[0minsert\u001b[0m\u001b[0;34m(\u001b[0m\u001b[0mmongo_doc\u001b[0m\u001b[0;34m)\u001b[0m\u001b[0;34m\u001b[0m\u001b[0m\n\u001b[0m\u001b[1;32m    305\u001b[0m \u001b[0;34m\u001b[0m\u001b[0m\n\u001b[1;32m    306\u001b[0m \u001b[0;34m\u001b[0m\u001b[0m\n",
        "\u001b[0;32m/Users/jayhack/anaconda/lib/python2.7/site-packages/pymongo/collection.pyc\u001b[0m in \u001b[0;36minsert\u001b[0;34m(self, doc_or_docs, manipulate, safe, check_keys, continue_on_error, **kwargs)\u001b[0m\n\u001b[1;32m    407\u001b[0m             results = message._do_batched_write_command(\n\u001b[1;32m    408\u001b[0m                     \u001b[0mself\u001b[0m\u001b[0;34m.\u001b[0m\u001b[0mdatabase\u001b[0m\u001b[0;34m.\u001b[0m\u001b[0mname\u001b[0m \u001b[0;34m+\u001b[0m \u001b[0;34m\".$cmd\"\u001b[0m\u001b[0;34m,\u001b[0m \u001b[0m_INSERT\u001b[0m\u001b[0;34m,\u001b[0m \u001b[0mcommand\u001b[0m\u001b[0;34m,\u001b[0m\u001b[0;34m\u001b[0m\u001b[0m\n\u001b[0;32m--> 409\u001b[0;31m                     gen(), check_keys, self.uuid_subtype, client)\n\u001b[0m\u001b[1;32m    410\u001b[0m             \u001b[0m_check_write_command_response\u001b[0m\u001b[0;34m(\u001b[0m\u001b[0mresults\u001b[0m\u001b[0;34m)\u001b[0m\u001b[0;34m\u001b[0m\u001b[0m\n\u001b[1;32m    411\u001b[0m         \u001b[0;32melse\u001b[0m\u001b[0;34m:\u001b[0m\u001b[0;34m\u001b[0m\u001b[0m\n",
        "\u001b[0;31mInvalidStringData\u001b[0m: strings in documents must be valid UTF-8: '\\x80\\x02cdill.dill\\n_create_function\\nq\\x00(cdill.dill\\n_unmarshal\\nq\\x01U\\x84c\\x01\\x00\\x00\\x00\\x01\\x00\\x00\\x00\\x02\\x00\\x00\\x00C\\x00\\x00\\x00s\\n\\x00\\x00\\x00t\\x00\\x00|\\x00\\x00\\x83\\x01\\x00S(\\x01\\x00\\x00\\x00N(\\x01\\x00\\x00\\x00t\\x06\\x00\\x00\\x00imread(\\x01\\x00\\x00\\x00t\\x01\\x00\\x00\\x00p(\\x00\\x00\\x00\\x00(\\x00\\x00\\x00\\x00s\\x1e\\x00\\x00\\x00<ipython-input-2-771220f9dbd0>t\\x08\\x00\\x00\\x00<lambda>\\x0f\\x00\\x00\\x00s\\x00\\x00\\x00\\x00q\\x02\\x85q\\x03Rq\\x04c__builtin__\\n__main__\\nU\\x08<lambda>q\\x05NN}q\\x06tq\\x07Rq\\x08.'"
       ]
      }
     ],
     "prompt_number": 3
    },
    {
     "cell_type": "code",
     "collapsed": false,
     "input": [
      "v = client.db.Video.find_one()"
     ],
     "language": "python",
     "metadata": {},
     "outputs": [],
     "prompt_number": 5
    },
    {
     "cell_type": "code",
     "collapsed": false,
     "input": [
      "v.mongo_doc"
     ],
     "language": "python",
     "metadata": {},
     "outputs": [
      {
       "metadata": {},
       "output_type": "pyout",
       "prompt_number": 7,
       "text": [
        "{u'_id': u'cpmc_jk36el4_Rbc',\n",
        " u'children': [],\n",
        " u'items': {u'subtitles': {u'exists': False, u'mode': u'memory'}},\n",
        " u'root': u'/Users/jayhack/Academics/CS/RoboBrain/Code/RecipeWatchRelated/data/Video/cpmc_jk36el4_Rbc'}"
       ]
      }
     ],
     "prompt_number": 7
    },
    {
     "cell_type": "code",
     "collapsed": false,
     "input": [],
     "language": "python",
     "metadata": {},
     "outputs": []
    }
   ],
   "metadata": {}
  }
 ]
}